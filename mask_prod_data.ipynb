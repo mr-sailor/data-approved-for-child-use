{
 "cells": [
  {
   "cell_type": "code",
   "execution_count": 53,
   "metadata": {},
   "outputs": [],
   "source": [
    "from pyspark.sql import SparkSession\n",
    "from faker import Faker\n",
    "\n",
    "\n",
    "\n",
    "spark = (\n",
    "        SparkSession\n",
    "        .builder.master(\"local\")\n",
    "        .appName(\"anonymise_data\")\n",
    "        .getOrCreate()\n",
    ")\n",
    "\n",
    "df = spark.read.format(\"parquet\").load(\"./data/sample-prod-data/\")"
   ]
  },
  {
   "cell_type": "code",
   "execution_count": 54,
   "metadata": {},
   "outputs": [
    {
     "name": "stdout",
     "output_type": "stream",
     "text": [
      "+---------+-------------------+----------+---------+-------------------+----------+--------------------+----------------------+----------+\n",
      "|client_id|         event_date|first_name|last_name|              email|country_cd|      transaction_id|transaction_amount_usd|product_cd|\n",
      "+---------+-------------------+----------+---------+-------------------+----------+--------------------+----------------------+----------+\n",
      "|      100|2024-05-03 19:17:53|      Jack|     Paul|jack.paul@gmail.com|        US|5c93a148-13ac-4ed...|                  83.5|    hoodie|\n",
      "|      100|2024-04-20 10:20:01|      Jack|     Paul|jack.paul@gmail.com|        US|91db632b-cfa9-47c...|                  72.3|  trousers|\n",
      "|      200|2023-12-03 11:10:42|     Maria|   Sharak|  m.rak@hotmail.com|        ES|83d8bd8d-89ff-488...|                 120.1|    jacket|\n",
      "|      300|2023-09-07 18:02:29|    Maciej|     Wilk|      djmac@onet.pl|        PL|419fde3d-c243-4b2...|                  25.9|    beanie|\n",
      "+---------+-------------------+----------+---------+-------------------+----------+--------------------+----------------------+----------+\n",
      "\n"
     ]
    }
   ],
   "source": [
    "DATA_SAMPLE = 1.0\n",
    "\n",
    "df_sampled = df.sample(withReplacement=False, fraction=DATA_SAMPLE)\n",
    "\n",
    "df_sampled.show()"
   ]
  },
  {
   "cell_type": "code",
   "execution_count": 43,
   "metadata": {},
   "outputs": [
    {
     "name": "stdout",
     "output_type": "stream",
     "text": [
      "Fake name: Matthew Marshall\n",
      "Fake adress: 31005 Schmidt Circle\n",
      "Port Richardville, PR 65626\n",
      "Fake email: khill@garcia.com\n",
      "Fake bank account: MIFC30070869587364\n",
      "Fake date of birth: 1963-02-24\n",
      "Fake phone number: 7479909080\n"
     ]
    }
   ],
   "source": [
    "fake = Faker()\n",
    "print(f\"Fake name: {fake.name()}\")\n",
    "print(f\"Fake adress: {fake.address()}\")\n",
    "print(f\"Fake email: {fake.ascii_email()}\")\n",
    "print(f\"Fake bank account: {fake.bban()}\")\n",
    "print(f\"Fake date of birth: {fake.date_of_birth()}\")\n",
    "print(f\"Fake phone number: {fake.basic_phone_number()}\")"
   ]
  },
  {
   "cell_type": "code",
   "execution_count": 55,
   "metadata": {},
   "outputs": [
    {
     "name": "stdout",
     "output_type": "stream",
     "text": [
      "+---------+-------------------+----------+---------+-------------------------+----------+------------------------------------+----------------------+----------+\n",
      "|client_id|event_date         |first_name|last_name|email                    |country_cd|transaction_id                      |transaction_amount_usd|product_cd|\n",
      "+---------+-------------------+----------+---------+-------------------------+----------+------------------------------------+----------------------+----------+\n",
      "|303      |2024-05-03 19:17:53|Alicia    |Baker    |xmahoney@example.net     |PS        |444ed2b1-91f2-4172-b5ee-b4b31619037f|175.0                 |hoodie    |\n",
      "|303      |2024-04-20 10:20:01|Alicia    |Baker    |xmahoney@example.net     |PS        |3db4b9af-596b-4140-a689-22f731768b54|387.0                 |trousers  |\n",
      "|429      |2023-12-03 11:10:42|Natalie   |Bailey   |stevensimmons@example.com|CH        |b1ddf8eb-74ee-41f5-819e-63e98faf1243|156.0                 |jacket    |\n",
      "|403      |2023-09-07 18:02:29|John      |Day      |molinanicole@example.com |KE        |93cb6cf6-816b-4138-bbc0-86356c214f0a|406.0                 |beanie    |\n",
      "+---------+-------------------+----------+---------+-------------------------+----------+------------------------------------+----------------------+----------+\n",
      "\n"
     ]
    }
   ],
   "source": [
    "df_masked = df_sampled\n",
    "\n",
    "anyonymization_configs = [\n",
    "    {\n",
    "        \"col_name\": \"client_id\",\n",
    "        \"faker_fun\": fake.unique.random_int,\n",
    "        \"args\": {\"min\": 100, \"max\": 500},\n",
    "    },\n",
    "    {\n",
    "        \"col_name\": \"first_name\",\n",
    "        \"faker_fun\": fake.unique.first_name,\n",
    "        \"args\": {},\n",
    "    },\n",
    "    {\n",
    "        \"col_name\": \"last_name\",\n",
    "        \"faker_fun\": fake.unique.last_name,\n",
    "        \"args\": {},\n",
    "    },\n",
    "    {\n",
    "        \"col_name\": \"email\",\n",
    "        \"faker_fun\": fake.unique.email,\n",
    "        \"args\": {},\n",
    "    },\n",
    "    {\n",
    "        \"col_name\": \"country_cd\",\n",
    "        \"faker_fun\": fake.unique.country_code,\n",
    "        \"args\": {},\n",
    "    },\n",
    "    {\n",
    "        \"col_name\": \"transaction_id\",\n",
    "        \"faker_fun\": fake.unique.uuid4,\n",
    "        \"args\": {},\n",
    "    },\n",
    "    {\n",
    "        \"col_name\": \"transaction_amount_usd\",\n",
    "        \"faker_fun\": fake.unique.random_int,\n",
    "        \"args\": {\"min\": 100, \"max\": 500},\n",
    "    },\n",
    "]\n",
    "\n",
    "for anyonymization_config in anyonymization_configs:\n",
    "\n",
    "    col_name = anyonymization_config[\"col_name\"]\n",
    "    faker_fun = anyonymization_config[\"faker_fun\"]\n",
    "    args = anyonymization_config[\"args\"]\n",
    "\n",
    "    distinct_col_values = [value[0] for value in df_masked.select(col_name).drop_duplicates().collect()]\n",
    "    replace_vals = {dcv: faker_fun(**args) for dcv in distinct_col_values}\n",
    "\n",
    "    df_masked = df_masked.replace(replace_vals, subset=col_name)\n",
    "\n",
    "\n",
    "df_masked.show(truncate=False)"
   ]
  }
 ],
 "metadata": {
  "kernelspec": {
   "display_name": ".venv",
   "language": "python",
   "name": "python3"
  },
  "language_info": {
   "codemirror_mode": {
    "name": "ipython",
    "version": 3
   },
   "file_extension": ".py",
   "mimetype": "text/x-python",
   "name": "python",
   "nbconvert_exporter": "python",
   "pygments_lexer": "ipython3",
   "version": "3.12.4"
  }
 },
 "nbformat": 4,
 "nbformat_minor": 2
}
